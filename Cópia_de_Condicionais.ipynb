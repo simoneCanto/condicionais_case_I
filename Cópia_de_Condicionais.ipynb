{
  "nbformat": 4,
  "nbformat_minor": 0,
  "metadata": {
    "colab": {
      "provenance": [],
      "include_colab_link": true
    },
    "kernelspec": {
      "name": "python3",
      "display_name": "Python 3"
    },
    "language_info": {
      "name": "python"
    }
  },
  "cells": [
    {
      "cell_type": "markdown",
      "metadata": {
        "id": "view-in-github",
        "colab_type": "text"
      },
      "source": [
        "<a href=\"https://colab.research.google.com/github/simoneCanto/condicionais_case_I/blob/main/C%C3%B3pia_de_Condicionais.ipynb\" target=\"_parent\"><img src=\"https://colab.research.google.com/assets/colab-badge.svg\" alt=\"Open In Colab\"/></a>"
      ]
    },
    {
      "cell_type": "markdown",
      "metadata": {
        "id": "xGapo2vByPhu"
      },
      "source": [
        "# Condicionais\n",
        "\n",
        "Os condicionais são utilizados para fazer comparações (condições) e caso elas sejam verdadeiras o nosso programa faz determinadas ações, e caso elas sejam falsas, nosso programa faz outras ações."
      ]
    },
    {
      "cell_type": "markdown",
      "metadata": {
        "id": "e8uNOgEFyfu7"
      },
      "source": [
        "## Comparadores"
      ]
    },
    {
      "cell_type": "markdown",
      "metadata": {
        "id": "9MP8VLmcymuB"
      },
      "source": [
        "<b> Os principais comparadores utilizadas são:</b><br>\n",
        "\n",
        "> a `==` b : Verifica se ***a*** é igual a ***b***\n",
        "\n",
        "> a `!=` b : Verifica se ***a*** é diferente de ***b***\n",
        "\n",
        "> a `> ` b : Verifica se ***a*** é maior que ***b***\n",
        "\n",
        "> a `>=` b : Verifica se ***a*** é maior ou igual a ***b***\n",
        "\n",
        "> a `< ` b : Verifica se ***a*** é menor que ***b***\n",
        "\n",
        "> a `<=` b : Verifica se ***a*** é menor ou igual a ***b***\n",
        "\n",
        "A resposta da comparação sempre será um Booleano: `True` | `False`"
      ]
    },
    {
      "cell_type": "code",
      "metadata": {
        "id": "cP0BbpnO1PnC"
      },
      "source": [
        "# Declarando variáveis:\n",
        "a = 7\n",
        "b = 2"
      ],
      "execution_count": null,
      "outputs": []
    },
    {
      "cell_type": "code",
      "metadata": {
        "colab": {
          "base_uri": "https://localhost:8080/"
        },
        "id": "qG0X0cUX1Ua4",
        "outputId": "83488532-1fd1-4161-e148-cbd6c2dd402b"
      },
      "source": [
        "a == b\n"
      ],
      "execution_count": null,
      "outputs": [
        {
          "output_type": "execute_result",
          "data": {
            "text/plain": [
              "False"
            ]
          },
          "metadata": {},
          "execution_count": 2
        }
      ]
    },
    {
      "cell_type": "code",
      "metadata": {
        "colab": {
          "base_uri": "https://localhost:8080/"
        },
        "id": "uc7Okunc1cvX",
        "outputId": "382c82d2-e10a-4c4f-fce2-80a12238dc75"
      },
      "source": [
        "a != b\n"
      ],
      "execution_count": null,
      "outputs": [
        {
          "output_type": "execute_result",
          "data": {
            "text/plain": [
              "True"
            ]
          },
          "metadata": {},
          "execution_count": 3
        }
      ]
    },
    {
      "cell_type": "code",
      "metadata": {
        "colab": {
          "base_uri": "https://localhost:8080/"
        },
        "id": "ykURydWb1clh",
        "outputId": "f604dfe7-8d64-424a-9048-566f5b4006b6"
      },
      "source": [
        "a > b\n"
      ],
      "execution_count": null,
      "outputs": [
        {
          "output_type": "execute_result",
          "data": {
            "text/plain": [
              "True"
            ]
          },
          "metadata": {},
          "execution_count": 4
        }
      ]
    },
    {
      "cell_type": "code",
      "metadata": {
        "colab": {
          "base_uri": "https://localhost:8080/"
        },
        "id": "EeqjPtWY1cau",
        "outputId": "f600a067-7970-44c2-d3a0-b626f3f83f9d"
      },
      "source": [
        "a >= b\n"
      ],
      "execution_count": null,
      "outputs": [
        {
          "output_type": "execute_result",
          "data": {
            "text/plain": [
              "True"
            ]
          },
          "metadata": {},
          "execution_count": 5
        }
      ]
    },
    {
      "cell_type": "code",
      "metadata": {
        "colab": {
          "base_uri": "https://localhost:8080/"
        },
        "id": "5BwSEfyO1cLg",
        "outputId": "fae8634d-0783-4569-e2e5-813ce6041e7e"
      },
      "source": [
        "a < b\n"
      ],
      "execution_count": null,
      "outputs": [
        {
          "output_type": "execute_result",
          "data": {
            "text/plain": [
              "False"
            ]
          },
          "metadata": {},
          "execution_count": 6
        }
      ]
    },
    {
      "cell_type": "code",
      "metadata": {
        "colab": {
          "base_uri": "https://localhost:8080/"
        },
        "id": "mG4cGgNs1b3K",
        "outputId": "44826a6a-b102-4c6d-ddb0-9aea2e140518"
      },
      "source": [
        "a <= b\n"
      ],
      "execution_count": null,
      "outputs": [
        {
          "output_type": "execute_result",
          "data": {
            "text/plain": [
              "False"
            ]
          },
          "metadata": {},
          "execution_count": 7
        }
      ]
    },
    {
      "cell_type": "markdown",
      "metadata": {
        "id": "DzLvGpYc1w-J"
      },
      "source": [
        "<h1> Exercícios de Comparadores </h1>"
      ]
    },
    {
      "cell_type": "markdown",
      "metadata": {
        "id": "WDXElJix2Tk6"
      },
      "source": [
        "1. Faça um programa que pede pra um usuário digitar 2 números e compare se eles são iguais."
      ]
    },
    {
      "cell_type": "code",
      "metadata": {
        "colab": {
          "base_uri": "https://localhost:8080/"
        },
        "id": "2L_HxQOJ2S8F",
        "outputId": "a733e5bb-4430-4b69-a8aa-f43c2fc78363"
      },
      "source": [
        "# Pedindo inputs\n",
        "c = int(input('Digite um número: '))\n",
        "d = int(input('Digite outro número: '))\n",
        "# Imprimindo comparação\n",
        "print('A variável c é igual a d: ', c == d)"
      ],
      "execution_count": null,
      "outputs": [
        {
          "output_type": "stream",
          "name": "stdout",
          "text": [
            "Digite um número: 123\n",
            "Digite outro número: 456\n",
            "A variável c é igual a d:  False\n"
          ]
        }
      ]
    },
    {
      "cell_type": "markdown",
      "metadata": {
        "id": "xbsjrO1u3HjN"
      },
      "source": [
        "2. Agora compare se a variável 1 digitada é maior ou igual a variável 2"
      ]
    },
    {
      "cell_type": "code",
      "metadata": {
        "colab": {
          "base_uri": "https://localhost:8080/"
        },
        "id": "pSMXsPdk3HHQ",
        "outputId": "2e913f4a-26f6-4d4d-8f45-fd0ec844ca4b"
      },
      "source": [
        "\n",
        "# Imprimindo comparação\n",
        "print(' A variével c é maior ou igual a d: ', c>=d)"
      ],
      "execution_count": null,
      "outputs": [
        {
          "output_type": "stream",
          "name": "stdout",
          "text": [
            " A variével c é maior ou igual a d:  False\n"
          ]
        }
      ]
    },
    {
      "cell_type": "markdown",
      "metadata": {
        "id": "DI8FF9DM3n-7"
      },
      "source": [
        "3. Dado o preço do lanche = 10.90 e da batata de 5.40. Calcule quanto vai sair a conta do usuário. O usuário deve inserir a quantidade de lanches que ele quer e a quantidade de batatas.\n",
        "Finalmente peça para o usuário falar quanto dinheiro ele tem na carteira e verifique se ele vai consegui pagar a conta."
      ]
    },
    {
      "cell_type": "code",
      "metadata": {
        "colab": {
          "base_uri": "https://localhost:8080/"
        },
        "id": "YBVTudk_3nRk",
        "outputId": "c3b43a88-68a6-4183-8440-5251d63b1e3f"
      },
      "source": [
        "# Declarando variáveis\n",
        "lanchePreco = 10.90\n",
        "batataPreco = 5.40\n",
        "lancheQtde = int(input('Quantos lanches você quer? '))\n",
        "batatatQtde = int(input('Quantas batatas você quer? '))\n",
        "dinheiroTotal = int(input('Quanto de dinheiro você tem? '))\n",
        "\n",
        "# Calculando custo total\n",
        "custoTotal = lancheQtde*lanchePreco + batatatQtde*batataPreco\n",
        "comparacao = custoTotal <= dinheiroTotal\n",
        "# Imprimindo resposta\n",
        "print('Sua compra ficou em: ', custoTotal)\n",
        "print('Você tem dinheiro o suficiente para pagar: ', comparacao )"
      ],
      "execution_count": null,
      "outputs": [
        {
          "output_type": "stream",
          "name": "stdout",
          "text": [
            "Quantos lanches você quer? 5\n",
            "Quantas batatas você quer? 2\n",
            "Quanto de dinheiro você tem? 30\n",
            "Sua compra ficou em:  65.3\n",
            "Você tem dinheiro o suficiente para pagar:  False\n"
          ]
        }
      ]
    },
    {
      "cell_type": "markdown",
      "metadata": {
        "id": "ah4rntx_4-HA"
      },
      "source": [
        "## Condicionais simples if-else\n",
        "\n",
        "As condicionais simples possuem somente 2 caminhos para se seguir: o caminho verdadeiro e o falso. Após fazer a condição pelo if o programa vai seguir caminhos diferentes."
      ]
    },
    {
      "cell_type": "markdown",
      "metadata": {
        "id": "gKqBhf-85ktK"
      },
      "source": [
        "<h1> Estrutura do if-else </h1>\n",
        "\n",
        "```\n",
        "if condicao:\n",
        "  Bloco verdadeiro\n",
        "else:\n",
        "  Bloco falso\n",
        "```\n",
        "\n",
        "<h3> Pontos de atenção: </h3>\n",
        "\n",
        "*   Não esqueça dos `:`\n",
        "*   Não esqueça da `indentação`"
      ]
    },
    {
      "cell_type": "code",
      "metadata": {
        "colab": {
          "base_uri": "https://localhost:8080/"
        },
        "id": "DXfNHBVnDYG9",
        "outputId": "1241293a-a5b8-4891-c4b5-2a515f40e505"
      },
      "source": [
        "# Exemplo True - False\n",
        "if True:\n",
        "  print('Bloco da verdade')\n",
        "else:\n",
        "  print('Bloco falso')\n",
        "print('Fora do bloco')\n"
      ],
      "execution_count": null,
      "outputs": [
        {
          "output_type": "stream",
          "name": "stdout",
          "text": [
            "Bloco da verdade\n",
            "Fora do bloco\n"
          ]
        }
      ]
    },
    {
      "cell_type": "markdown",
      "metadata": {
        "id": "0di5lY497D3F"
      },
      "source": [
        "<h3> Exemplo 1 </h3>\n",
        "Dado as variáveis:\n",
        "\n",
        "a = 2\n",
        "\n",
        "b = 3\n",
        "\n",
        "Compare se a == b e imprima uma mensagem de resultado."
      ]
    },
    {
      "cell_type": "code",
      "metadata": {
        "id": "Eo7GuxBQ7DMj"
      },
      "source": [
        "# Declarando as variáveis\n",
        "a = 2\n",
        "b = 3"
      ],
      "execution_count": null,
      "outputs": []
    },
    {
      "cell_type": "code",
      "metadata": {
        "colab": {
          "base_uri": "https://localhost:8080/"
        },
        "id": "QoytUlJk8BaL",
        "outputId": "c2d1cbbc-f89c-4215-d267-190b30909571"
      },
      "source": [
        "# Desenhado o if\n",
        "if a != b:\n",
        "  print('A variável a, que vale {} é diferente da variável b, que vale {}'.format(a,b))\n",
        "else:\n",
        "  print('Variável a igual a variável b')\n",
        "print('Fim da comparação')\n"
      ],
      "execution_count": null,
      "outputs": [
        {
          "output_type": "stream",
          "name": "stdout",
          "text": [
            "A variável a, que vale 2 é diferente da variável b, que vale 3\n",
            "Fim da comparação\n"
          ]
        }
      ]
    },
    {
      "cell_type": "markdown",
      "metadata": {
        "id": "CaFq9p1x8DeC"
      },
      "source": [
        "Agora... mude a variável:\n",
        "\n",
        "b = 2\n",
        "\n",
        "e execute o mesmo código anterior"
      ]
    },
    {
      "cell_type": "code",
      "metadata": {
        "id": "YsBRHyMF8Lqx",
        "colab": {
          "base_uri": "https://localhost:8080/"
        },
        "outputId": "8f089265-edba-4079-f210-9b66f8a1812b"
      },
      "source": [
        "# Redefinindo b\n",
        "b = 2\n",
        "# Desenhado o if\n",
        "if a != b:\n",
        "  print('A variável a, que vale {} é diferente da variável b, que vale {}'.format(a,b))\n",
        "else:\n",
        "  print('Variável a, que vale {} é igual a variável b, que também vale {}'.format(a,b))\n",
        "print('Fim da comparação')"
      ],
      "execution_count": null,
      "outputs": [
        {
          "output_type": "stream",
          "name": "stdout",
          "text": [
            "Variável a, que vale 2 é igual a variável b, que também vale 2\n",
            "Fim da comparação\n"
          ]
        }
      ]
    },
    {
      "cell_type": "markdown",
      "metadata": {
        "id": "XPdDrqoV8ZbC"
      },
      "source": [
        "<h3> Exemplo 2 </h3>\n",
        "\n",
        "1. Faça um programa que pede pra um usuário digitar 2 números e:\n",
        "\n",
        "*   Se num1 >= num2 então multiplique o num2 por 5\n",
        "*   Caso contrário, multiplique o num1 por 5"
      ]
    },
    {
      "cell_type": "code",
      "metadata": {
        "colab": {
          "base_uri": "https://localhost:8080/"
        },
        "id": "DIhYhyO19Xdy",
        "outputId": "a9bfd509-c05d-4220-af32-ef84c72919d2"
      },
      "source": [
        "# Pedindo inputs\n",
        "num1 = float(input('Digite um número: '))\n",
        "num2 = float(input('Digite outro número: '))\n",
        "\n",
        "# Fazendo o if\n",
        "if num1 >= num2:\n",
        "  print('num1 é maior ou igual a num2')\n",
        "  num2 = num2 * 5\n",
        "else:\n",
        "  print('num1 é menor que num2')\n",
        "  num1 = num1 * 5\n",
        "\n",
        "print('Novos valores num1 = {} e num2 = {}'.format(num1, num2))"
      ],
      "execution_count": null,
      "outputs": [
        {
          "output_type": "stream",
          "name": "stdout",
          "text": [
            "Digite um número: 2\n",
            "Digite outro número: 3\n",
            "num1 é menor que num2\n",
            "Novos valores num1 = 10.0 e num2 = 3.0\n"
          ]
        }
      ]
    },
    {
      "cell_type": "markdown",
      "metadata": {
        "id": "53hsil9C-ubq"
      },
      "source": [
        "## Condicionais aninhados if-elif-else\n",
        "\n",
        "Esses condicionais são utilizados quando não temos somente 2 casos (True e False), mas sim quando temos vários casos"
      ]
    },
    {
      "cell_type": "markdown",
      "metadata": {
        "id": "fzn37wwE-9pV"
      },
      "source": [
        "<h1> Estrutura do if-elif-else </h1>\n",
        "\n",
        "```\n",
        "if condicao1:\n",
        "  Bloco condicao1 verdadeiro\n",
        "elif condicao2:\n",
        "  Bloco condicao2 verdadeiro\n",
        "  .\n",
        "  .\n",
        "  .\n",
        "else:\n",
        "  Bloco falso\n",
        "```"
      ]
    },
    {
      "cell_type": "markdown",
      "metadata": {
        "id": "mkkDTQw8_Ttd"
      },
      "source": [
        "<h2> Exemplo </h2>\n",
        "Dado as variáveis:\n",
        "\n",
        "a = 2\n",
        "\n",
        "b = 3\n",
        "\n",
        "Compare e mostra para o usuário se uma é igual a outra, ou se uma é maior que outra, e neste caso, qual é a maior."
      ]
    },
    {
      "cell_type": "code",
      "metadata": {
        "colab": {
          "base_uri": "https://localhost:8080/"
        },
        "id": "IeYvZN8C-8lA",
        "outputId": "2aa734a1-8288-4456-a616-d9faf365ec33"
      },
      "source": [
        "# Declarando as variáveis\n",
        "a = 2\n",
        "b = 3\n",
        "# Montando o if-elif-else\n",
        "if a > b:\n",
        "  print('*a* é maior do que *b*')\n",
        "elif a == b:\n",
        "  print('*a* é igual a *b*')\n",
        "else:\n",
        "  print('*a* é menor do que *b*')"
      ],
      "execution_count": null,
      "outputs": [
        {
          "output_type": "stream",
          "name": "stdout",
          "text": [
            "*a* é menor do que *b*\n"
          ]
        }
      ]
    },
    {
      "cell_type": "markdown",
      "metadata": {
        "id": "5WAZpJMH_-kA"
      },
      "source": [
        "<h2> Exemplo 2 </h2>\n",
        "\n",
        "Agora faça um programa no qual o usuário vai digitar os 2 números e você fará essas comparações.\n",
        "\n"
      ]
    },
    {
      "cell_type": "code",
      "metadata": {
        "colab": {
          "base_uri": "https://localhost:8080/"
        },
        "id": "keKfaHQ4AKbX",
        "outputId": "b28344f3-09bd-4c65-b152-725f388e59bd"
      },
      "source": [
        "# Declarando as variáveis\n",
        "a = input('Digite o número a: ')\n",
        "b = input('Digite o número b: ')\n",
        "\n",
        "# Montando o if-elif-else\n",
        "if a > b:\n",
        "  print('*a* é maior do que *b*')\n",
        "elif a == b:\n",
        "  print('*a* é igual a *b*')\n",
        "else:\n",
        "  print('*a* é menor do que *b*')"
      ],
      "execution_count": null,
      "outputs": [
        {
          "output_type": "stream",
          "name": "stdout",
          "text": [
            "Digite o número a: 2\n",
            "Digite o número b: 3\n",
            "*a* é menor do que *b*\n"
          ]
        }
      ]
    },
    {
      "cell_type": "markdown",
      "metadata": {
        "id": "QdSZJR_xApNo"
      },
      "source": [
        "<h2> Exemplo 3 </h2>\n",
        "\n",
        "Faça um programa que o usuário vai digitar a vontade do que ele está de comer alguma coisa.\n",
        "\n",
        "Caso este input seja:\n",
        "\n",
        "* Lanche : então imprima : \"Vá ao Méqui\"\n",
        "\n",
        "* Pizza : então imprima : \"Vá ao Hut\"\n",
        "\n",
        "* Mexicano : então imprima : \"Vá ao Bell\"\n",
        "\n",
        "* Caso contrário : então imprima: \"Tente novamente\""
      ]
    },
    {
      "cell_type": "code",
      "metadata": {
        "colab": {
          "base_uri": "https://localhost:8080/"
        },
        "id": "5OWad-opOwpv",
        "outputId": "dac46b46-d22c-4f34-f1fd-6edc67e410a8"
      },
      "source": [
        "vontade = input('O que você quer comer? ')\n",
        "\n",
        "if vontade == 'Lanche':\n",
        "  print('Vá ao Méqui!')\n",
        "elif vontade == 'Pizza':\n",
        "  print('Vá ao Hut!')\n",
        "elif vontade == 'Mexicano':\n",
        "  print('Vá ao Bell!')\n",
        "else:\n",
        "  print('Tente novamente!')\n",
        "print('Fim do programa!!')"
      ],
      "execution_count": null,
      "outputs": [
        {
          "output_type": "stream",
          "name": "stdout",
          "text": [
            "O que você quer comer? Sorvete\n",
            "Tente novamente!\n",
            "Fim do programa!!\n"
          ]
        }
      ]
    },
    {
      "cell_type": "markdown",
      "metadata": {
        "id": "XezVkckndHnk"
      },
      "source": [
        "## Operadores Lógicos\n",
        "\n",
        "Os operadores lógicos são usadas quando precisamos de múltiplas condições em 1 só if"
      ]
    },
    {
      "cell_type": "markdown",
      "metadata": {
        "id": "t4oWC7VVdRJS"
      },
      "source": [
        "**negrito**> `and` : ambas as condições precisam ser satisfeitas simultaneamente\n",
        "\n",
        "> `or` : pelo menos 1 condição precisa ser satisfeita\n",
        "\n",
        "```\n",
        "True and True : True\n",
        "True and False : False\n",
        "True or False : True\n",
        "False or True : True\n",
        "False or False : False\n",
        "```\n"
      ]
    },
    {
      "cell_type": "markdown",
      "metadata": {
        "id": "IC46_mpQdUVn"
      },
      "source": [
        "<h2> Exemplo 1 </h2>\n",
        "\n",
        "Se eu tiver mais que 20 reais e preço do lanche for menor que 10 reais, então eu compro o lanche:"
      ]
    },
    {
      "cell_type": "code",
      "metadata": {
        "id": "Zxpqgg6EdOvB",
        "colab": {
          "base_uri": "https://localhost:8080/"
        },
        "outputId": "a5f74cd2-3cd2-4436-de78-e279c8b564ee"
      },
      "source": [
        "lanchePreco = float(input('Qual o preço do Lanche? '))\n",
        "saldo = float(input('Quanto você tem de dinheiro? '))\n",
        "\n",
        "if saldo >= 20 and lanchePreco < 10:\n",
        "  print('Comprar o Lanche!!!')\n",
        "else:\n",
        "  print('Não comprar o Lanche.')"
      ],
      "execution_count": null,
      "outputs": [
        {
          "output_type": "stream",
          "name": "stdout",
          "text": [
            "Qual o preço do Lanche? 9.9\n",
            "Quanto você tem de dinheiro? 15\n",
            "Não comprar o Lanche.\n"
          ]
        }
      ]
    },
    {
      "cell_type": "markdown",
      "metadata": {
        "id": "IxMylkajdYS0"
      },
      "source": [
        "<h2> Exemplo 2 </h2>\n",
        "\n",
        "Se você tiver média nas notas > 7 ou nota na prova final > 7 você está aprovado."
      ]
    },
    {
      "cell_type": "code",
      "metadata": {
        "id": "19bwS1gQdZyR",
        "colab": {
          "base_uri": "https://localhost:8080/"
        },
        "outputId": "6561f93e-5c5c-4024-b171-21cdf6859710"
      },
      "source": [
        "media = float(input('Qual foi sua média? '))\n",
        "notaFinal = float(input('Qual foi sua nota final? '))\n",
        "if media > 7 or notaFinal > 7:\n",
        "  print('Você está aprovado!!! :)')\n",
        "else:\n",
        "  print('Você está reprovado! :(')\n"
      ],
      "execution_count": null,
      "outputs": [
        {
          "output_type": "stream",
          "name": "stdout",
          "text": [
            "Qual foi sua média? 5\n",
            "Qual foi sua nota final? 1\n",
            "Você está reprovado! :(\n"
          ]
        }
      ]
    },
    {
      "cell_type": "markdown",
      "metadata": {
        "id": "Z2n03UzbdcoG"
      },
      "source": [
        "# Verificando Variáveis\n",
        "\n",
        "Esta funcionalidade é muito usada para testar e saber se podemos converter as variáveis dadas pelo usuário."
      ]
    },
    {
      "cell_type": "markdown",
      "metadata": {
        "id": "r25150ecdfBN"
      },
      "source": [
        "> `.isnumeric( )` : #o input é numérico\n",
        "\n",
        "> `.isalpha( )` : #o input é texto\n",
        "\n",
        "> `.isalnum( )` : #o input é texto + num"
      ]
    },
    {
      "cell_type": "markdown",
      "metadata": {
        "id": "NMkrrJUtdhBM"
      },
      "source": [
        "<h2> Exemplo </h2>\n",
        "\n",
        "Peça para o usuário digitar alguma coisa e verifique o que é:"
      ]
    },
    {
      "cell_type": "code",
      "metadata": {
        "id": "gNz1JXhwdi-8",
        "colab": {
          "base_uri": "https://localhost:8080/"
        },
        "outputId": "6c17f090-e4a4-427e-9e7c-ee1ba7038fad"
      },
      "source": [
        "entrada = input('digite algo: ')\n",
        "\n",
        "ehNum = entrada.isnumeric()\n",
        "ehTex = entrada.isalpha()\n",
        "ehNumTex = entrada.isalnum()\n",
        "print('É um número!')\n",
        "print(ehNum)\n",
        "print('É um texto!')\n",
        "print(ehTex)\n",
        "print('É um Texto e um número!')\n",
        "print(ehNumTex)"
      ],
      "execution_count": null,
      "outputs": [
        {
          "output_type": "stream",
          "name": "stdout",
          "text": [
            "digite algo: Euclides2\n",
            "É um número!\n",
            "False\n",
            "É um texto!\n",
            "False\n",
            "É um Texto e um número!\n",
            "True\n"
          ]
        }
      ]
    },
    {
      "cell_type": "markdown",
      "metadata": {
        "id": "KOZpI7mldj_Z"
      },
      "source": [
        "# Exercícios"
      ]
    },
    {
      "cell_type": "markdown",
      "metadata": {
        "id": "HZZy1W73doX-"
      },
      "source": [
        "<h2> Exercício 1: </h2>\n",
        "\n",
        "Faça um programa que verifique se o usuário digitou um valor numérico ou não.\n",
        "\n",
        "* Caso Verdadeiro, imprima: 'Esse input é um número'\n",
        "\n",
        "* Caso Falso, imprima: 'Esse input não é um número, tente novamente'\n"
      ]
    },
    {
      "cell_type": "code",
      "metadata": {
        "id": "yel1IF1ydpzs",
        "colab": {
          "base_uri": "https://localhost:8080/"
        },
        "outputId": "3cc856e6-278f-4325-cbd1-a43a95ec6112"
      },
      "source": [
        "entrada = input('Digite algo: ')\n",
        "\n",
        "if entrada.isnumeric() == True:\n",
        "  print('Esse input é um número!!')\n",
        "else:\n",
        "  print('Esse input não é um número, tente novamente.')"
      ],
      "execution_count": null,
      "outputs": [
        {
          "output_type": "stream",
          "name": "stdout",
          "text": [
            "Digite algo: 24\n",
            "Esse input é um número!!\n"
          ]
        }
      ]
    },
    {
      "cell_type": "markdown",
      "metadata": {
        "id": "O-bH-WFKdrK9"
      },
      "source": [
        "<h2> Exercício 2: </h2>\n",
        "\n",
        "Peça para o usuário digitar um número e verifique se ele é par e imprima para o usuário essa informação.\n",
        "\n",
        "Dica.: números pares, quando são divididos por 2 possuem resto = 0"
      ]
    },
    {
      "cell_type": "code",
      "metadata": {
        "id": "5hllpCqKds-_",
        "colab": {
          "base_uri": "https://localhost:8080/"
        },
        "outputId": "7a07bd3a-90cf-48f2-e1d1-3a07dc6a175e"
      },
      "source": [
        "entrada = float(input('Digite um número: '))\n",
        "\n",
        "if entrada % 2 == 0:\n",
        "  print('O número {} é um número par!!'.format(entrada))\n",
        "else:\n",
        "  print('O número {} não é par, tente novamente.'.format(entrada))"
      ],
      "execution_count": null,
      "outputs": [
        {
          "output_type": "stream",
          "name": "stdout",
          "text": [
            "Digite um número: 12\n",
            "O número 12.0 é um número par!!\n"
          ]
        }
      ]
    },
    {
      "cell_type": "markdown",
      "metadata": {
        "id": "c9klAnx-dtQa"
      },
      "source": [
        "<h2> Exercício 3: </h2>\n",
        "\n",
        "Faça um programa no qual o usuário insira 2 inteiros. Verifique se o número 1 é divisível pelo número 2. Imprima essa informação para o usuário."
      ]
    },
    {
      "cell_type": "code",
      "metadata": {
        "id": "gIB2qixZdt9H",
        "colab": {
          "base_uri": "https://localhost:8080/"
        },
        "outputId": "28035ecc-da25-4c44-bc6e-140c99872476"
      },
      "source": [
        "num1 = float(input('Digite o primeiro número: '))\n",
        "num2 = float(input('Digite o segundo número: '))\n",
        "\n",
        "if num1 % num2 == 0:\n",
        "  print('Num1 dividido por Num2 é igual a: ', num1/num2)\n",
        "else:\n",
        "  print('Num1 não é divisível por Num2, tente novamente.')"
      ],
      "execution_count": null,
      "outputs": [
        {
          "output_type": "stream",
          "name": "stdout",
          "text": [
            "Digite o primeiro número: 35\n",
            "Digite o segundo número: 3\n",
            "Num1 não é divisível por Num2, tente novamente.\n"
          ]
        }
      ]
    },
    {
      "cell_type": "markdown",
      "metadata": {
        "id": "1aLL6abedwwK"
      },
      "source": [
        "<h2> Desafio - calculadora: </h2>\n",
        "\n",
        "Faça um programa no qual o usuário vai digitar 2 números e também o tipo de operação que ele gostaria que fosse feita:\n",
        "\n",
        "* Soma\n",
        "* Subtração\n",
        "* Divisão\n",
        "* Multiplicação\n",
        "* Potência\n",
        "\n",
        "Imprima o resultado para o usuário da operação:\n",
        "\n",
        "Num1  `Operação`  Num2\n",
        "\n",
        "Caso o usuário não digite uma operação válida, dê uma mensagem de erro!"
      ]
    },
    {
      "cell_type": "code",
      "metadata": {
        "id": "VNXoWYDKdym5",
        "colab": {
          "base_uri": "https://localhost:8080/"
        },
        "outputId": "19f95aa1-4efd-40a7-e201-d958e97abfb1"
      },
      "source": [
        "num1 = float(input('Digite um número: '))\n",
        "num2 = float(input('Digite outro número: '))\n",
        "operacao = input('Qual operação quer realizar? ')\n",
        "\n",
        "if operacao == 'soma':\n",
        "  print('Num1 + Num2 é ugual a:', num1 + num2)\n",
        "elif operacao == 'subtracao':\n",
        "  print('Num1 - Num2 é ugual a:', num1 - num2)\n",
        "elif operacao == 'divisao':\n",
        "  print('Num1 / Num2 é ugual a:', round(num1 / num2, 2))\n",
        "elif operacao == 'multiplicacao':\n",
        "  print('Num1 * Num2 é ugual a:', num1 * num2)\n",
        "elif operacao == 'potencia':\n",
        "  print('Num1 ** Num2 é ugual a:', num1 ** num2)\n",
        "else:\n",
        "  print('Erro! Digite uma operação válida.')"
      ],
      "execution_count": null,
      "outputs": [
        {
          "output_type": "stream",
          "name": "stdout",
          "text": [
            "Digite um número: 36\n",
            "Digite outro número: 2\n",
            "Qual operação quer realizar? raiz\n",
            "Erro! Digite uma operação válida.\n"
          ]
        }
      ]
    }
  ]
}